{
 "cells": [
  {
   "cell_type": "code",
   "execution_count": 1,
   "metadata": {},
   "outputs": [],
   "source": [
    "#instaloader : instagram scraper\n",
    "from instaloader import Instaloader, Profile\n",
    "import pandas as pd\n",
    "import random\n",
    "from re import sub, match\n",
    "from decimal import Decimal\n",
    "\n",
    "#selenium, web scraper\n",
    "from selenium import webdriver\n",
    "from selenium.webdriver.common.keys import Keys\n",
    "from time import sleep"
   ]
  },
  {
   "cell_type": "code",
   "execution_count": 2,
   "metadata": {},
   "outputs": [],
   "source": [
    "#instaloader (scrape data from instagram)\n",
    "\n",
    "#login into instagram account\n",
    "def login_instaloader(username, password):\n",
    "    L = Instaloader()\n",
    "    L.login(username, password)\n",
    "    return L\n",
    "\n",
    "#get follower\n",
    "def get_followers_following(L,user):\n",
    "    \"\"\"\n",
    "    parameter\n",
    "    L    : instaloader object\n",
    "    user : an account for which data will be taken (u can use your own account / other public account)\n",
    "    \n",
    "    return\n",
    "    list of our followers, list of account we followed, account that doesn't follback and account we don't follback\n",
    "    \"\"\"\n",
    "    profile = Profile.from_username(L.context, user)\n",
    "    follower = [user.username for user in profile.get_followers()]\n",
    "    follow = [user.username for user in profile.get_followees()]\n",
    "    \n",
    "    #save in dataframe\n",
    "    followers = pd.DataFrame()\n",
    "    followers['account'] = follower\n",
    "    follows = pd.DataFrame()\n",
    "    follows['account'] = follow\n",
    "    \n",
    "    #not follback\n",
    "    not_follback = follows[~follows['account'].isin(follower)]\n",
    "    #fans\n",
    "    fans = followers[~followers['account'].isin(follow)]\n",
    "    \n",
    "    print(\"Account: \"+user+\" with \"+str(len(follower))+\" followers, \"+str(len(follow))+\" follow, \"+str(not_follback.shape[0])+\" doesn't follback and \"+str(fans.shape[0])+\" fans\")\n",
    "    return followers, follows, not_follback, fans"
   ]
  },
  {
   "cell_type": "code",
   "execution_count": 3,
   "metadata": {},
   "outputs": [],
   "source": [
    "#selenium + webdriver (automatic operation)\n",
    "class InstagramBot:\n",
    "    \n",
    "    #InstagramBot constructor (initiation for ig_account, ig_pass and webdriver)\n",
    "    def __init__(self, username, password):\n",
    "        self.username = username\n",
    "        self.password = password\n",
    "        self.driver = webdriver.Chrome()\n",
    "    \n",
    "    def close_browser(self):\n",
    "        self.driver.close()\n",
    "        \n",
    "    def login(self):\n",
    "        driver = self.driver\n",
    "        driver.get('https://instagram.com')\n",
    "        sleep(2)\n",
    "        \n",
    "        #fill the username field\n",
    "        username_elm = driver.find_element_by_xpath(\"//input[@name='username']\")\n",
    "        username_elm.clear()\n",
    "        username_elm.send_keys(self.username)\n",
    "        \n",
    "        #fill the password field\n",
    "        password_elm = driver.find_element_by_xpath(\"//input[@name='password']\")\n",
    "        password_elm.clear()\n",
    "        password_elm.send_keys(self.password)\n",
    "        #press enter\n",
    "        password_elm.send_keys(Keys.RETURN)\n",
    "        sleep(4)\n",
    "        \n",
    "        #click not now\n",
    "        driver.find_element_by_xpath(\"//button[@class='sqdOP yWX7d    y3zKF     ']\").click()\n",
    "        sleep(4)\n",
    "        \n",
    "        #click not now\n",
    "        driver.find_element_by_xpath(\"//button[@class='aOOlW   HoLwm ']\").click()\n",
    "        sleep(2)\n",
    "    \n",
    "    def like_comment(self, account, comments, method=1):\n",
    "        \"\"\"\n",
    "        account : ig_account that we will like+comment its post (str)\n",
    "        comment : what comment we want to send (str)\n",
    "        method  : - 0 : if you only want to like and comment without follow their account\n",
    "                  - 1 : follow + like and comment\n",
    "        \"\"\"\n",
    "        #to distinguish between just like-comment(0), with follow-comment-like(1)\n",
    "        if method == 0:\n",
    "            self.driver.get(\"https://www.instagram.com/\"+account)\n",
    "        \n",
    "        #get the number of posts\n",
    "        posts = self.driver.find_elements_by_class_name('-nal3 ')[0].text.split()[0]\n",
    "        posts = int(Decimal(sub(r'[^\\d.]', '', posts)))\n",
    "        \n",
    "        #click first pict\n",
    "        pic = self.driver.find_element_by_class_name(\"_9AhH0\")    \n",
    "        pic.click()\n",
    "        sleep(2)\n",
    "\n",
    "        #click like button on the first pict\n",
    "        like = self.driver.find_elements_by_class_name('wpO6b ')[2]\n",
    "        like.click()\n",
    "\n",
    "        #comment click (some comments have limited status)\n",
    "        try:\n",
    "            commentArea = self.driver.find_element_by_class_name('Ypffh')\n",
    "            commentArea.click()\n",
    "            sleep(2)\n",
    "            commentArea = self.driver.find_element_by_class_name('Ypffh')\n",
    "            commentArea.click()\n",
    "            commentArea.send_keys(comments)\n",
    "            commentArea.send_keys(Keys.ENTER)\n",
    "            sleep(2)\n",
    "        except:\n",
    "            print(\"Limited Comment\")\n",
    "\n",
    "        #click next button        \n",
    "        self.driver.find_element_by_xpath('/html/body/div[5]/div[1]/div/div/a').click()\n",
    "        print(\"Account: \", account, \"like - comment pict-1 : done\") \n",
    "        sleep(2)\n",
    "\n",
    "        #like the first 3 posts\n",
    "        if posts > 3:\n",
    "            for i in range(2,4):\n",
    "                #like photo\n",
    "                try:\n",
    "                    like = self.driver.find_element_by_xpath('/html/body/div[5]/div[2]/div/article/div[3]/section[1]/span[1]/button')\n",
    "                    like.click()\n",
    "                    sleep(2)\n",
    "                except:\n",
    "                    print(\"I can not fund this button\")\n",
    "                \n",
    "                #next post handling\n",
    "                if i != 3:\n",
    "                    try:\n",
    "                        nextPic = self.driver.find_element_by_xpath('/html/body/div[5]/div[1]/div/div/a[2]')\n",
    "                        nextPic.click()\n",
    "                        print(\"Account: \", account, \"like - comment pict-\"+str(i)+\"  : done\") \n",
    "                        sleep(2)\n",
    "                    except:\n",
    "                        print(\"I the next button\")\n",
    "                        \n",
    "        \n",
    "    def start_follow(self, accounts, comments):\n",
    "        \"\"\"\n",
    "        accounts : list of account we will follow (list of str)\n",
    "        comments : list of comments (list of str)\n",
    "        \"\"\"\n",
    "        driver = self.driver\n",
    "        #looping itteration for each instagram account\n",
    "        for idx, account in enumerate(accounts):\n",
    "            #go to user account page\n",
    "            driver.get(\"https://instagram.com/\"+account+\"/\")\n",
    "            sleep(random.randint(2,4))\n",
    "            \n",
    "            #get the follower number\n",
    "            followers_element = self.driver.find_elements_by_class_name('-nal3 ')[1].text.split()[0]\n",
    "            follower_number = int(Decimal(sub(r'[^\\d.]', '', followers_element)))\n",
    "            #if the number of followers like: 24K, 1.6M\n",
    "            follower_character = \"\"\n",
    "            try:\n",
    "                follower_character = sub(r'[^\\d.]', ' flaq', followers_element)\n",
    "                follower_character = follower_character.split()[1]\n",
    "            except:\n",
    "                follower_character = \"\"\n",
    "            \n",
    "            #filter the account, we just follow an account which have more then 150 follower\n",
    "            if (follower_number>150 or follower_character != \"\"):\n",
    "                #There are 2 kinds of account : public (follow like comment) and private (just follow). They have different web structure\n",
    "                #public account\n",
    "                try:\n",
    "                    #click follow button\n",
    "                    driver.find_element_by_xpath(\"//button[@class='_5f5mN       jIbKX  _6VtSN     yZn4P   ']\").click()\n",
    "                    sleep(random.randint(2,3))\n",
    "\n",
    "                    #call auto like-comment function\n",
    "                    self.like_comment(account, comments[random.randint(0,3)])\n",
    "                except:\n",
    "                    #private account (just click follow button)\n",
    "                    driver.find_element_by_xpath(\"//button[@class='sqdOP  L3NKy   y3zKF     ']\").click()\n",
    "                    sleep(random.randint(2,3))\n",
    "\n",
    "                #randome activity to make the instagram doesn't suspect that we are bot (for every 5 posts)\n",
    "                if idx % 5 == 0:\n",
    "                    if random.randint(1,2) == 1:\n",
    "                        driver.get(\"https://instagram.com/\"+self.username+\"/\")\n",
    "                    else:\n",
    "                        driver.get(\"https://instagram.com/\")\n",
    "                    sleep(random.randint(5,10))\n",
    "                  \n",
    "        driver.get(\"https://instagram.com/\"+self.username+\"/\")\n",
    "        sleep(2)\n",
    "        \n",
    "    def start_unfollow(self, accounts):\n",
    "        #accounts : list of account we want to unfollowe (list of str)\n",
    "        driver = self.driver\n",
    "        for account in accounts:\n",
    "            #go to user account page\n",
    "            driver.get(\"https://instagram.com/\"+account+\"/\")\n",
    "            #click icon friend\n",
    "            driver.find_element_by_xpath(\"//button[@class='_5f5mN    -fzfL     _6VtSN     yZn4P   ']\").click()\n",
    "            sleep(2)\n",
    "            \n",
    "            #click unfollow button\n",
    "            driver.find_element_by_xpath(\"//button[@class='aOOlW -Cab_   ']\").click()\n",
    "            sleep(random.randint(2,3))\n",
    "        driver.get(\"https://instagram.com/\"+self.username+\"/\")\n",
    "        sleep(2)\n",
    "        \n",
    "    def start_dm(self, accounts, message):\n",
    "        \"\"\"\n",
    "        accounts : list of account we will follow (list of str)\n",
    "        message  : contents of the message that we will send (str)\n",
    "        \"\"\"\n",
    "        for user_account in accounts:\n",
    "            try:\n",
    "                driver = self.driver\n",
    "                #go to massage page \n",
    "                driver.get(\"https://www.instagram.com/direct/inbox/\")\n",
    "                #click send message\n",
    "                driver.find_element_by_xpath(\"/html/body/div[1]/section/div/div[2]/div/div/div[2]/div/button\").click()\n",
    "                \n",
    "                #fill the search box\n",
    "                account_direct = driver.find_element_by_xpath(\"//input[@name='queryBox']\")\n",
    "                account_direct.clear()\n",
    "                account_direct.send_keys(user_account) \n",
    "                sleep(2)\n",
    "\n",
    "                #get the first account from the search list\n",
    "                driver.find_element_by_xpath(\"/html/body/div[5]/div/div/div[2]/div[2]/div[1]\").click()\n",
    "                sleep(1)\n",
    "                #klik next button\n",
    "                driver.find_element_by_xpath(\"/html/body/div[5]/div/div/div[1]/div/div[2]\").click()\n",
    "                sleep(1)\n",
    "\n",
    "                #send message\n",
    "                try:\n",
    "                    #click the textarea\n",
    "                    commentArea = self.driver.find_element_by_xpath('/html/body/div[1]/section/div/div[2]/div/div/div[2]/div[2]/div/div[2]/div/div/div[2]/textarea')\n",
    "                    commentArea.click()\n",
    "                    sleep(2)\n",
    "                    commentArea = self.driver.find_element_by_xpath('/html/body/div[1]/section/div/div[2]/div/div/div[2]/div[2]/div/div[2]/div/div/div[2]/textarea')\n",
    "                    commentArea.click()\n",
    "                    #fill the textarea\n",
    "                    commentArea.send_keys(message)\n",
    "                    #press enter\n",
    "                    commentArea.send_keys(Keys.ENTER)\n",
    "                    sleep(2)\n",
    "                except:\n",
    "                    print(\"Filed send\")\n",
    "            except:\n",
    "                print(\"Filed DM to \",user_account)\n",
    "            sleep(2)\n",
    "        driver.get(\"https://instagram.com/\"+self.username+\"/\")"
   ]
  },
  {
   "cell_type": "markdown",
   "metadata": {},
   "source": [
    "## Scrape the data (Instaloader)"
   ]
  },
  {
   "cell_type": "markdown",
   "metadata": {},
   "source": [
    "### Login and get our account info"
   ]
  },
  {
   "cell_type": "code",
   "execution_count": 4,
   "metadata": {},
   "outputs": [
    {
     "name": "stdout",
     "output_type": "stream",
     "text": [
      "Account: verkaindonesia with 51 followers, 22 follow, 13 doesn't follback and 42 fans\n"
     ]
    }
   ],
   "source": [
    "#xiena_ribuets\n",
    "insta = login_instaloader('verkaindonesia','verkasatumiliar')\n",
    "followers, follows, not_follback, fans = get_followers_following(insta, 'verkaindonesia')"
   ]
  },
  {
   "cell_type": "markdown",
   "metadata": {},
   "source": [
    "### Who are they..? (followers, followed, not_follback, fans)"
   ]
  },
  {
   "cell_type": "code",
   "execution_count": 5,
   "metadata": {
    "scrolled": false
   },
   "outputs": [
    {
     "data": {
      "text/html": [
       "<div>\n",
       "<style scoped>\n",
       "    .dataframe tbody tr th:only-of-type {\n",
       "        vertical-align: middle;\n",
       "    }\n",
       "\n",
       "    .dataframe tbody tr th {\n",
       "        vertical-align: top;\n",
       "    }\n",
       "\n",
       "    .dataframe thead th {\n",
       "        text-align: right;\n",
       "    }\n",
       "</style>\n",
       "<table border=\"1\" class=\"dataframe\">\n",
       "  <thead>\n",
       "    <tr style=\"text-align: right;\">\n",
       "      <th></th>\n",
       "      <th>account</th>\n",
       "    </tr>\n",
       "  </thead>\n",
       "  <tbody>\n",
       "    <tr>\n",
       "      <th>0</th>\n",
       "      <td>cantika_furry</td>\n",
       "    </tr>\n",
       "    <tr>\n",
       "      <th>1</th>\n",
       "      <td>asmr_arx</td>\n",
       "    </tr>\n",
       "    <tr>\n",
       "      <th>2</th>\n",
       "      <td>muhsatrio.go</td>\n",
       "    </tr>\n",
       "    <tr>\n",
       "      <th>3</th>\n",
       "      <td>taftayani_breda</td>\n",
       "    </tr>\n",
       "    <tr>\n",
       "      <th>4</th>\n",
       "      <td>difhabibi</td>\n",
       "    </tr>\n",
       "  </tbody>\n",
       "</table>\n",
       "</div>"
      ],
      "text/plain": [
       "           account\n",
       "0    cantika_furry\n",
       "1         asmr_arx\n",
       "2     muhsatrio.go\n",
       "3  taftayani_breda\n",
       "4        difhabibi"
      ]
     },
     "execution_count": 5,
     "metadata": {},
     "output_type": "execute_result"
    }
   ],
   "source": [
    "followers.head()"
   ]
  },
  {
   "cell_type": "code",
   "execution_count": 6,
   "metadata": {
    "scrolled": true
   },
   "outputs": [
    {
     "data": {
      "text/html": [
       "<div>\n",
       "<style scoped>\n",
       "    .dataframe tbody tr th:only-of-type {\n",
       "        vertical-align: middle;\n",
       "    }\n",
       "\n",
       "    .dataframe tbody tr th {\n",
       "        vertical-align: top;\n",
       "    }\n",
       "\n",
       "    .dataframe thead th {\n",
       "        text-align: right;\n",
       "    }\n",
       "</style>\n",
       "<table border=\"1\" class=\"dataframe\">\n",
       "  <thead>\n",
       "    <tr style=\"text-align: right;\">\n",
       "      <th></th>\n",
       "      <th>account</th>\n",
       "    </tr>\n",
       "  </thead>\n",
       "  <tbody>\n",
       "    <tr>\n",
       "      <th>0</th>\n",
       "      <td>mac._.batra</td>\n",
       "    </tr>\n",
       "    <tr>\n",
       "      <th>1</th>\n",
       "      <td>resepcemilan.unik</td>\n",
       "    </tr>\n",
       "    <tr>\n",
       "      <th>2</th>\n",
       "      <td>tanboy_kun</td>\n",
       "    </tr>\n",
       "    <tr>\n",
       "      <th>3</th>\n",
       "      <td>acmilanpedia</td>\n",
       "    </tr>\n",
       "    <tr>\n",
       "      <th>4</th>\n",
       "      <td>carlesalenya</td>\n",
       "    </tr>\n",
       "  </tbody>\n",
       "</table>\n",
       "</div>"
      ],
      "text/plain": [
       "             account\n",
       "0        mac._.batra\n",
       "1  resepcemilan.unik\n",
       "2         tanboy_kun\n",
       "3       acmilanpedia\n",
       "4       carlesalenya"
      ]
     },
     "execution_count": 6,
     "metadata": {},
     "output_type": "execute_result"
    }
   ],
   "source": [
    "follows.head()"
   ]
  },
  {
   "cell_type": "code",
   "execution_count": 7,
   "metadata": {},
   "outputs": [
    {
     "name": "stdout",
     "output_type": "stream",
     "text": [
      "              account\n",
      "0         mac._.batra\n",
      "1   resepcemilan.unik\n",
      "2          tanboy_kun\n",
      "3        acmilanpedia\n",
      "4        carlesalenya\n",
      "5    indonesia_milan2\n",
      "6         liverpoolfc\n",
      "7         fikinaki.up\n",
      "8      kucingmenangis\n",
      "9        kucingmeow__\n",
      "10           leomessi\n",
      "11       rafalcantara\n",
      "12         muh_nashir\n"
     ]
    }
   ],
   "source": [
    "pd.set_option('display.max_rows', not_follback.shape[0]+1)\n",
    "n_follback = not_follback.reset_index()\n",
    "n_follback.drop('index', axis=1, inplace =True)\n",
    "print(n_follback)"
   ]
  },
  {
   "cell_type": "code",
   "execution_count": 8,
   "metadata": {
    "scrolled": true
   },
   "outputs": [
    {
     "data": {
      "text/html": [
       "<div>\n",
       "<style scoped>\n",
       "    .dataframe tbody tr th:only-of-type {\n",
       "        vertical-align: middle;\n",
       "    }\n",
       "\n",
       "    .dataframe tbody tr th {\n",
       "        vertical-align: top;\n",
       "    }\n",
       "\n",
       "    .dataframe thead th {\n",
       "        text-align: right;\n",
       "    }\n",
       "</style>\n",
       "<table border=\"1\" class=\"dataframe\">\n",
       "  <thead>\n",
       "    <tr style=\"text-align: right;\">\n",
       "      <th></th>\n",
       "      <th>account</th>\n",
       "    </tr>\n",
       "  </thead>\n",
       "  <tbody>\n",
       "    <tr>\n",
       "      <th>0</th>\n",
       "      <td>cantika_furry</td>\n",
       "    </tr>\n",
       "    <tr>\n",
       "      <th>1</th>\n",
       "      <td>asmr_arx</td>\n",
       "    </tr>\n",
       "    <tr>\n",
       "      <th>2</th>\n",
       "      <td>muhsatrio.go</td>\n",
       "    </tr>\n",
       "    <tr>\n",
       "      <th>3</th>\n",
       "      <td>taftayani_breda</td>\n",
       "    </tr>\n",
       "    <tr>\n",
       "      <th>4</th>\n",
       "      <td>difhabibi</td>\n",
       "    </tr>\n",
       "  </tbody>\n",
       "</table>\n",
       "</div>"
      ],
      "text/plain": [
       "           account\n",
       "0    cantika_furry\n",
       "1         asmr_arx\n",
       "2     muhsatrio.go\n",
       "3  taftayani_breda\n",
       "4        difhabibi"
      ]
     },
     "execution_count": 8,
     "metadata": {},
     "output_type": "execute_result"
    }
   ],
   "source": [
    "fans.head()"
   ]
  },
  {
   "cell_type": "code",
   "execution_count": 9,
   "metadata": {},
   "outputs": [
    {
     "data": {
      "text/plain": [
       "['cantika_furry',\n",
       " 'asmr_arx',\n",
       " 'muhsatrio.go',\n",
       " 'taftayani_breda',\n",
       " 'difhabibi',\n",
       " 'hariadhy',\n",
       " 'ikapvtri',\n",
       " 'udahnggajastip',\n",
       " 'atma_dian',\n",
       " 'ilhamksyuriadi',\n",
       " 'ajengadnan',\n",
       " 'exen.art',\n",
       " 'rifkahzp',\n",
       " 'muhammad_fajar_sr',\n",
       " 'hellairmalla',\n",
       " 'fithrohhn__',\n",
       " 'praailham_',\n",
       " 'indahcahyanip',\n",
       " 'dewan_s',\n",
       " 'diahajengdwi',\n",
       " 'alfinuri_',\n",
       " 'crisnandrarm',\n",
       " 'pggyyy',\n",
       " 'durizdu',\n",
       " 'maghdran',\n",
       " 'himatulzulfa',\n",
       " 'didikmulyadi25',\n",
       " 'sweetandvelvet',\n",
       " 'himanshukumar4640',\n",
       " 'naynaimah18',\n",
       " 'rujakbusum',\n",
       " 'dede_peta',\n",
       " 'rehanpebe',\n",
       " 'ritajeng_07',\n",
       " 'vattanaaldefi',\n",
       " 'lath_thifah',\n",
       " 'maghdasella',\n",
       " 'hermawanwiwid',\n",
       " 'mochamadnaofal',\n",
       " 'grandhysetyo',\n",
       " 'audiisra',\n",
       " 'bunder_ontheway']"
      ]
     },
     "execution_count": 9,
     "metadata": {},
     "output_type": "execute_result"
    }
   ],
   "source": [
    "#dataframe to list \n",
    "fans_array = fans.account.tolist()\n",
    "fans_array"
   ]
  },
  {
   "cell_type": "markdown",
   "metadata": {},
   "source": [
    "## Start to run the Bot (Selenium)"
   ]
  },
  {
   "cell_type": "markdown",
   "metadata": {},
   "source": [
    "### Login to our account"
   ]
  },
  {
   "cell_type": "code",
   "execution_count": 15,
   "metadata": {},
   "outputs": [],
   "source": [
    "insta_bot = InstagramBot(\"verkaindonesia\",\"verkasatumiliar\")\n",
    "insta_bot.login()"
   ]
  },
  {
   "cell_type": "markdown",
   "metadata": {},
   "source": [
    "### Follow account + like 3 post and leave a single comment to their post "
   ]
  },
  {
   "cell_type": "code",
   "execution_count": 16,
   "metadata": {},
   "outputs": [
    {
     "name": "stdout",
     "output_type": "stream",
     "text": [
      "Account:  animalplanet like - comment pict-1 : done\n",
      "Account:  animalplanet like - comment pict-2  : done\n",
      "Account:  acmilanstore like - comment pict-1 : done\n",
      "Account:  acmilanstore like - comment pict-2  : done\n"
     ]
    }
   ],
   "source": [
    "#our rundom comment\n",
    "comments = [\"Wow, I like your pict broh! Follback please :)\", \n",
    "           \"What a beautiful it was, we have some hobbies dude.\",\n",
    "           \"Excellent pict! don't forget to see my gallery.\",\n",
    "           \"Nice to meet you dude, may I get a follback :D\"]\n",
    "accounts = ['animalplanet','_arbiee', 'acmilanstore', 'charvihijab']\n",
    "\n",
    "#follower 3.1m, private account, follower biasa, follower<150\n",
    "insta_bot.start_follow(accounts, comments)"
   ]
  },
  {
   "cell_type": "markdown",
   "metadata": {},
   "source": [
    "### like 3 post and leave a single comment to their post (without follow)"
   ]
  },
  {
   "cell_type": "code",
   "execution_count": null,
   "metadata": {},
   "outputs": [],
   "source": [
    "comments = [\"Wow, I like your pict broh! Follback please :)\", \n",
    "           \"What a beautiful it was, we have some hobbies dude.\",\n",
    "           \"Excellent pict! don't forget to see my gallery.\",\n",
    "           \"Nice to meet you dude, may I get a follback :D\"]\n",
    "\n",
    "insta_bot.like_comment('leo_edw',comments[random.randint(0,3)],0)"
   ]
  },
  {
   "cell_type": "markdown",
   "metadata": {},
   "source": [
    "### Direct Message to some accounts"
   ]
  },
  {
   "cell_type": "code",
   "execution_count": 17,
   "metadata": {},
   "outputs": [
    {
     "name": "stdout",
     "output_type": "stream",
     "text": [
      "Filed send\n"
     ]
    }
   ],
   "source": [
    "list_dm =['irwan_afandi', 'acmilanstore']\n",
    "message = \"Hello! great to see you Bro. Check our catalog please !\"\n",
    "insta_bot.start_dm(list_dm, message)"
   ]
  },
  {
   "cell_type": "markdown",
   "metadata": {},
   "source": [
    "### Unfollow some accounts"
   ]
  },
  {
   "cell_type": "code",
   "execution_count": 18,
   "metadata": {},
   "outputs": [],
   "source": [
    "list_unfollow = ['carlesalenya', 'kucingmeow__']\n",
    "insta_bot.start_unfollow(list_unfollow)"
   ]
  },
  {
   "cell_type": "code",
   "execution_count": null,
   "metadata": {},
   "outputs": [],
   "source": []
  }
 ],
 "metadata": {
  "kernelspec": {
   "display_name": "Python 3",
   "language": "python",
   "name": "python3"
  },
  "language_info": {
   "codemirror_mode": {
    "name": "ipython",
    "version": 3
   },
   "file_extension": ".py",
   "mimetype": "text/x-python",
   "name": "python",
   "nbconvert_exporter": "python",
   "pygments_lexer": "ipython3",
   "version": "3.7.7"
  }
 },
 "nbformat": 4,
 "nbformat_minor": 4
}
